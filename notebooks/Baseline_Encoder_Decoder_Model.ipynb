{
  "cells": [
    {
      "cell_type": "markdown",
      "metadata": {
        "tags": [],
        "id": "rH6uFwe18NUN"
      },
      "source": [
        "## **Paths**"
      ]
    },
    {
      "cell_type": "code",
      "execution_count": null,
      "metadata": {
        "id": "qp78hvbnKJS5"
      },
      "outputs": [],
      "source": [
        "image_folder = 'NLMCXR_png'\n",
        "df_path = 'pickle_files/df_final.pkl'\n",
        "chexnet_weights = 'brucechou1983_CheXNet_Keras_0.3.0_weights.h5'"
      ]
    },
    {
      "cell_type": "markdown",
      "metadata": {
        "id": "nGGq7Ow-8NUT"
      },
      "source": [
        "## **Imports**"
      ]
    },
    {
      "cell_type": "code",
      "execution_count": null,
      "metadata": {
        "id": "4HCj-KNqJ0MF"
      },
      "outputs": [],
      "source": [
        "import warnings\n",
        "warnings.filterwarnings(\"ignore\")\n",
        "import pandas as pd\n",
        "import numpy as np\n",
        "import math\n",
        "import matplotlib.pyplot as plt\n",
        "import seaborn as sns\n",
        "sns.set(palette='muted',style='white')\n",
        "\n",
        "import joblib \n",
        "import os\n",
        "\n",
        "import cv2\n",
        "import imgaug.augmenters as iaa\n",
        "\n",
        "from nltk.translate.bleu_score import sentence_bleu \n",
        "\n",
        "import tensorflow as tf\n",
        "from tensorflow.keras.layers import Dense,GlobalAveragePooling2D, Input, Embedding, LSTM,Dot,Reshape,Concatenate,BatchNormalization, GlobalMaxPooling2D, Dropout, Add\n",
        "from tensorflow.keras.preprocessing.text import Tokenizer\n",
        "from tensorflow.keras.preprocessing.sequence import pad_sequences\n",
        "tf.compat.v1.enable_eager_execution()\n"
      ]
    },
    {
      "cell_type": "markdown",
      "metadata": {
        "id": "RMKUtqyupMHb"
      },
      "source": [
        "## **Loading Data**"
      ]
    },
    {
      "cell_type": "code",
      "execution_count": null,
      "metadata": {
        "id": "trX7yvkgpRYW",
        "tags": []
      },
      "outputs": [],
      "source": [
        "df = pd.read_pickle(df_path)\n",
        "col = ['image_1', 'image_2', 'impression', 'xml file name']\n",
        "df = df[col].copy()\n",
        "\n",
        "#path\n",
        "df['image_1'] = df['image_1'].apply(lambda row: os.path.join(image_folder,row))\n",
        "df['image_2'] = df['image_2'].apply(lambda row: os.path.join(image_folder,row))\n",
        "\n",
        "df['impression_final'] = '<CLS> ' + df.impression + ' <END>'\n",
        "df['impression_ip'] = '<CLS> ' + df.impression\n",
        "df['impression_op'] = df.impression + ' <END>' \n"
      ]
    },
    {
      "cell_type": "code",
      "execution_count": null,
      "metadata": {
        "id": "qxHVWdHz8NUV",
        "outputId": "8dba52a1-6f52-4874-db2f-cac3ba455605"
      },
      "outputs": [
        {
          "data": {
            "text/plain": [
              "(4033, 7)"
            ]
          },
          "execution_count": 4,
          "metadata": {},
          "output_type": "execute_result"
        }
      ],
      "source": [
        "df.shape"
      ]
    },
    {
      "cell_type": "code",
      "execution_count": null,
      "metadata": {
        "id": "PZjzo-XO8NUX",
        "outputId": "0baaacf2-a689-42dd-88e9-eb3e32a71575"
      },
      "outputs": [
        {
          "data": {
            "text/html": [
              "<div>\n",
              "<style scoped>\n",
              "    .dataframe tbody tr th:only-of-type {\n",
              "        vertical-align: middle;\n",
              "    }\n",
              "\n",
              "    .dataframe tbody tr th {\n",
              "        vertical-align: top;\n",
              "    }\n",
              "\n",
              "    .dataframe thead th {\n",
              "        text-align: right;\n",
              "    }\n",
              "</style>\n",
              "<table border=\"1\" class=\"dataframe\">\n",
              "  <thead>\n",
              "    <tr style=\"text-align: right;\">\n",
              "      <th></th>\n",
              "      <th>image_1</th>\n",
              "      <th>image_2</th>\n",
              "      <th>impression</th>\n",
              "      <th>xml file name</th>\n",
              "      <th>impression_final</th>\n",
              "      <th>impression_ip</th>\n",
              "      <th>impression_op</th>\n",
              "    </tr>\n",
              "  </thead>\n",
              "  <tbody>\n",
              "    <tr>\n",
              "      <th>0</th>\n",
              "      <td>NLMCXR_png\\CXR1_1_IM-0001-3001.png</td>\n",
              "      <td>NLMCXR_png\\CXR1_1_IM-0001-4001.png</td>\n",
              "      <td>normal chest x .</td>\n",
              "      <td>1.xml</td>\n",
              "      <td>&lt;CLS&gt; normal chest x . &lt;END&gt;</td>\n",
              "      <td>&lt;CLS&gt; normal chest x .</td>\n",
              "      <td>normal chest x . &lt;END&gt;</td>\n",
              "    </tr>\n",
              "    <tr>\n",
              "      <th>1</th>\n",
              "      <td>NLMCXR_png\\CXR10_IM-0002-1001.png</td>\n",
              "      <td>NLMCXR_png\\CXR10_IM-0002-2001.png</td>\n",
              "      <td>no acute cardiopulmonary process .</td>\n",
              "      <td>10.xml</td>\n",
              "      <td>&lt;CLS&gt; no acute cardiopulmonary process . &lt;END&gt;</td>\n",
              "      <td>&lt;CLS&gt; no acute cardiopulmonary process .</td>\n",
              "      <td>no acute cardiopulmonary process . &lt;END&gt;</td>\n",
              "    </tr>\n",
              "    <tr>\n",
              "      <th>2</th>\n",
              "      <td>NLMCXR_png\\CXR100_IM-0002-1001.png</td>\n",
              "      <td>NLMCXR_png\\CXR100_IM-0002-2001.png</td>\n",
              "      <td>no active disease .</td>\n",
              "      <td>100.xml</td>\n",
              "      <td>&lt;CLS&gt; no active disease . &lt;END&gt;</td>\n",
              "      <td>&lt;CLS&gt; no active disease .</td>\n",
              "      <td>no active disease . &lt;END&gt;</td>\n",
              "    </tr>\n",
              "    <tr>\n",
              "      <th>3</th>\n",
              "      <td>NLMCXR_png\\CXR1000_IM-0003-1001.png</td>\n",
              "      <td>NLMCXR_png\\CXR1000_IM-0003-2001.png</td>\n",
              "      <td>increased opacity in the right upper lobe with...</td>\n",
              "      <td>1000.xml</td>\n",
              "      <td>&lt;CLS&gt; increased opacity in the right upper lob...</td>\n",
              "      <td>&lt;CLS&gt; increased opacity in the right upper lob...</td>\n",
              "      <td>increased opacity in the right upper lobe with...</td>\n",
              "    </tr>\n",
              "    <tr>\n",
              "      <th>4</th>\n",
              "      <td>NLMCXR_png\\CXR1000_IM-0003-2001.png</td>\n",
              "      <td>NLMCXR_png\\CXR1000_IM-0003-3001.png</td>\n",
              "      <td>increased opacity in the right upper lobe with...</td>\n",
              "      <td>1000.xml</td>\n",
              "      <td>&lt;CLS&gt; increased opacity in the right upper lob...</td>\n",
              "      <td>&lt;CLS&gt; increased opacity in the right upper lob...</td>\n",
              "      <td>increased opacity in the right upper lobe with...</td>\n",
              "    </tr>\n",
              "  </tbody>\n",
              "</table>\n",
              "</div>"
            ],
            "text/plain": [
              "                               image_1                              image_2  \\\n",
              "0   NLMCXR_png\\CXR1_1_IM-0001-3001.png   NLMCXR_png\\CXR1_1_IM-0001-4001.png   \n",
              "1    NLMCXR_png\\CXR10_IM-0002-1001.png    NLMCXR_png\\CXR10_IM-0002-2001.png   \n",
              "2   NLMCXR_png\\CXR100_IM-0002-1001.png   NLMCXR_png\\CXR100_IM-0002-2001.png   \n",
              "3  NLMCXR_png\\CXR1000_IM-0003-1001.png  NLMCXR_png\\CXR1000_IM-0003-2001.png   \n",
              "4  NLMCXR_png\\CXR1000_IM-0003-2001.png  NLMCXR_png\\CXR1000_IM-0003-3001.png   \n",
              "\n",
              "                                          impression xml file name  \\\n",
              "0                                   normal chest x .         1.xml   \n",
              "1                 no acute cardiopulmonary process .        10.xml   \n",
              "2                                no active disease .       100.xml   \n",
              "3  increased opacity in the right upper lobe with...      1000.xml   \n",
              "4  increased opacity in the right upper lobe with...      1000.xml   \n",
              "\n",
              "                                    impression_final  \\\n",
              "0                       <CLS> normal chest x . <END>   \n",
              "1     <CLS> no acute cardiopulmonary process . <END>   \n",
              "2                    <CLS> no active disease . <END>   \n",
              "3  <CLS> increased opacity in the right upper lob...   \n",
              "4  <CLS> increased opacity in the right upper lob...   \n",
              "\n",
              "                                       impression_ip  \\\n",
              "0                             <CLS> normal chest x .   \n",
              "1           <CLS> no acute cardiopulmonary process .   \n",
              "2                          <CLS> no active disease .   \n",
              "3  <CLS> increased opacity in the right upper lob...   \n",
              "4  <CLS> increased opacity in the right upper lob...   \n",
              "\n",
              "                                       impression_op  \n",
              "0                             normal chest x . <END>  \n",
              "1           no acute cardiopulmonary process . <END>  \n",
              "2                          no active disease . <END>  \n",
              "3  increased opacity in the right upper lobe with...  \n",
              "4  increased opacity in the right upper lobe with...  "
            ]
          },
          "execution_count": 5,
          "metadata": {},
          "output_type": "execute_result"
        }
      ],
      "source": [
        "df.head()"
      ]
    },
    {
      "cell_type": "code",
      "execution_count": null,
      "metadata": {
        "colab": {
          "base_uri": "https://localhost:8080/"
        },
        "id": "3pBI_1bh1aBD",
        "outputId": "df187b58-9cab-40f1-9c2f-f2901da847f3"
      },
      "outputs": [
        {
          "data": {
            "text/plain": [
              "no acute cardiopulmonary abnormality .                                                                                        383\n",
              "no acute cardiopulmonary findings .                                                                                           172\n",
              "no acute cardiopulmonary disease .                                                                                            147\n",
              "no acute cardiopulmonary abnormalities .                                                                                      141\n",
              "no active disease .                                                                                                           137\n",
              "                                                                                                                             ... \n",
              "no acute cardiopulmonary abnormality . no active disease .                                                                      1\n",
              "scarring or pleural plaque in the left upper lobe with partial resection of the posterior fourth rib . no acute findings .      1\n",
              "low lung volumes . bibasilar atelectasis versus scarring .                                                                      1\n",
              "similar exam with changes of cystic fibrosis . no focal abnormality .                                                           1\n",
              "heart size is normal and lungs are clear . no pneumothorax effusion or pneumonia .                                              1\n",
              "Name: impression, Length: 1726, dtype: int64"
            ]
          },
          "execution_count": 6,
          "metadata": {},
          "output_type": "execute_result"
        }
      ],
      "source": [
        "# Checking the counts of the impressions we have\n",
        "df['impression'].value_counts()"
      ]
    },
    {
      "cell_type": "code",
      "execution_count": null,
      "metadata": {
        "id": "hhK7ToQifIoH"
      },
      "outputs": [],
      "source": [
        "# Data highly imbalanced, drop duplicated points\n",
        "df.drop_duplicates(subset = ['xml file name'], inplace = True)"
      ]
    },
    {
      "cell_type": "code",
      "execution_count": null,
      "metadata": {
        "id": "x_Lq69fx8NUZ",
        "outputId": "6283aa98-0ebb-4e20-9058-39929098ad2f"
      },
      "outputs": [
        {
          "name": "stdout",
          "output_type": "stream",
          "text": [
            "<class 'pandas.core.frame.DataFrame'>\n",
            "Int64Index: 3820 entries, 0 to 4031\n",
            "Data columns (total 7 columns):\n",
            " #   Column            Non-Null Count  Dtype \n",
            "---  ------            --------------  ----- \n",
            " 0   image_1           3820 non-null   object\n",
            " 1   image_2           3820 non-null   object\n",
            " 2   impression        3820 non-null   object\n",
            " 3   xml file name     3820 non-null   object\n",
            " 4   impression_final  3820 non-null   object\n",
            " 5   impression_ip     3820 non-null   object\n",
            " 6   impression_op     3820 non-null   object\n",
            "dtypes: object(7)\n",
            "memory usage: 238.8+ KB\n"
          ]
        }
      ],
      "source": [
        "df.info()"
      ]
    },
    {
      "cell_type": "code",
      "execution_count": null,
      "metadata": {
        "colab": {
          "base_uri": "https://localhost:8080/"
        },
        "id": "8_VaaAVFz4OM",
        "outputId": "e65d9284-838c-4867-ae67-56dbe13350e6"
      },
      "outputs": [
        {
          "data": {
            "text/plain": [
              "Index(['impression', 'image_1', 'image_2', 'impression_x', 'xml file name',\n",
              "       'impression_final', 'impression_ip', 'impression_op', 'impression_y'],\n",
              "      dtype='object')"
            ]
          },
          "execution_count": 9,
          "metadata": {},
          "output_type": "execute_result"
        }
      ],
      "source": [
        "impression_counts = df['impression'].value_counts()\n",
        "df = df.merge(impression_counts, left_on = 'impression', right_index = True) #join left impression value with right index\n",
        "\n",
        "df.columns"
      ]
    },
    {
      "cell_type": "code",
      "execution_count": null,
      "metadata": {
        "colab": {
          "base_uri": "https://localhost:8080/",
          "height": 397
        },
        "id": "gGl2SAfDHHeM",
        "outputId": "36758816-bd19-4cb3-868f-4bd5318e331e"
      },
      "outputs": [
        {
          "data": {
            "text/html": [
              "<div>\n",
              "<style scoped>\n",
              "    .dataframe tbody tr th:only-of-type {\n",
              "        vertical-align: middle;\n",
              "    }\n",
              "\n",
              "    .dataframe tbody tr th {\n",
              "        vertical-align: top;\n",
              "    }\n",
              "\n",
              "    .dataframe thead th {\n",
              "        text-align: right;\n",
              "    }\n",
              "</style>\n",
              "<table border=\"1\" class=\"dataframe\">\n",
              "  <thead>\n",
              "    <tr style=\"text-align: right;\">\n",
              "      <th></th>\n",
              "      <th>impression</th>\n",
              "      <th>image_1</th>\n",
              "      <th>image_2</th>\n",
              "      <th>xml file name</th>\n",
              "      <th>impression_final</th>\n",
              "      <th>impression_ip</th>\n",
              "      <th>impression_op</th>\n",
              "      <th>impression_counts</th>\n",
              "    </tr>\n",
              "  </thead>\n",
              "  <tbody>\n",
              "    <tr>\n",
              "      <th>0</th>\n",
              "      <td>normal chest x .</td>\n",
              "      <td>NLMCXR_png\\CXR1_1_IM-0001-3001.png</td>\n",
              "      <td>NLMCXR_png\\CXR1_1_IM-0001-4001.png</td>\n",
              "      <td>1.xml</td>\n",
              "      <td>&lt;CLS&gt; normal chest x . &lt;END&gt;</td>\n",
              "      <td>&lt;CLS&gt; normal chest x .</td>\n",
              "      <td>normal chest x . &lt;END&gt;</td>\n",
              "      <td>3</td>\n",
              "    </tr>\n",
              "    <tr>\n",
              "      <th>1274</th>\n",
              "      <td>normal chest x .</td>\n",
              "      <td>NLMCXR_png\\CXR2145_IM-0766-1001.png</td>\n",
              "      <td>NLMCXR_png\\CXR2145_IM-0766-2001.png</td>\n",
              "      <td>2145.xml</td>\n",
              "      <td>&lt;CLS&gt; normal chest x . &lt;END&gt;</td>\n",
              "      <td>&lt;CLS&gt; normal chest x .</td>\n",
              "      <td>normal chest x . &lt;END&gt;</td>\n",
              "      <td>3</td>\n",
              "    </tr>\n",
              "    <tr>\n",
              "      <th>1732</th>\n",
              "      <td>normal chest x .</td>\n",
              "      <td>NLMCXR_png\\CXR2545_IM-1054-1001.png</td>\n",
              "      <td>NLMCXR_png\\CXR2545_IM-1054-1002.png</td>\n",
              "      <td>2545.xml</td>\n",
              "      <td>&lt;CLS&gt; normal chest x . &lt;END&gt;</td>\n",
              "      <td>&lt;CLS&gt; normal chest x .</td>\n",
              "      <td>normal chest x . &lt;END&gt;</td>\n",
              "      <td>3</td>\n",
              "    </tr>\n",
              "    <tr>\n",
              "      <th>1</th>\n",
              "      <td>no acute cardiopulmonary process .</td>\n",
              "      <td>NLMCXR_png\\CXR10_IM-0002-1001.png</td>\n",
              "      <td>NLMCXR_png\\CXR10_IM-0002-2001.png</td>\n",
              "      <td>10.xml</td>\n",
              "      <td>&lt;CLS&gt; no acute cardiopulmonary process . &lt;END&gt;</td>\n",
              "      <td>&lt;CLS&gt; no acute cardiopulmonary process .</td>\n",
              "      <td>no acute cardiopulmonary process . &lt;END&gt;</td>\n",
              "      <td>87</td>\n",
              "    </tr>\n",
              "    <tr>\n",
              "      <th>63</th>\n",
              "      <td>no acute cardiopulmonary process .</td>\n",
              "      <td>NLMCXR_png\\CXR1051_IM-0039-5001.png</td>\n",
              "      <td>NLMCXR_png\\CXR1051_IM-0039-6001.png</td>\n",
              "      <td>1051.xml</td>\n",
              "      <td>&lt;CLS&gt; no acute cardiopulmonary process . &lt;END&gt;</td>\n",
              "      <td>&lt;CLS&gt; no acute cardiopulmonary process .</td>\n",
              "      <td>no acute cardiopulmonary process . &lt;END&gt;</td>\n",
              "      <td>87</td>\n",
              "    </tr>\n",
              "  </tbody>\n",
              "</table>\n",
              "</div>"
            ],
            "text/plain": [
              "                              impression                              image_1  \\\n",
              "0                       normal chest x .   NLMCXR_png\\CXR1_1_IM-0001-3001.png   \n",
              "1274                    normal chest x .  NLMCXR_png\\CXR2145_IM-0766-1001.png   \n",
              "1732                    normal chest x .  NLMCXR_png\\CXR2545_IM-1054-1001.png   \n",
              "1     no acute cardiopulmonary process .    NLMCXR_png\\CXR10_IM-0002-1001.png   \n",
              "63    no acute cardiopulmonary process .  NLMCXR_png\\CXR1051_IM-0039-5001.png   \n",
              "\n",
              "                                  image_2 xml file name  \\\n",
              "0      NLMCXR_png\\CXR1_1_IM-0001-4001.png         1.xml   \n",
              "1274  NLMCXR_png\\CXR2145_IM-0766-2001.png      2145.xml   \n",
              "1732  NLMCXR_png\\CXR2545_IM-1054-1002.png      2545.xml   \n",
              "1       NLMCXR_png\\CXR10_IM-0002-2001.png        10.xml   \n",
              "63    NLMCXR_png\\CXR1051_IM-0039-6001.png      1051.xml   \n",
              "\n",
              "                                    impression_final  \\\n",
              "0                       <CLS> normal chest x . <END>   \n",
              "1274                    <CLS> normal chest x . <END>   \n",
              "1732                    <CLS> normal chest x . <END>   \n",
              "1     <CLS> no acute cardiopulmonary process . <END>   \n",
              "63    <CLS> no acute cardiopulmonary process . <END>   \n",
              "\n",
              "                                 impression_ip  \\\n",
              "0                       <CLS> normal chest x .   \n",
              "1274                    <CLS> normal chest x .   \n",
              "1732                    <CLS> normal chest x .   \n",
              "1     <CLS> no acute cardiopulmonary process .   \n",
              "63    <CLS> no acute cardiopulmonary process .   \n",
              "\n",
              "                                 impression_op  impression_counts  \n",
              "0                       normal chest x . <END>                  3  \n",
              "1274                    normal chest x . <END>                  3  \n",
              "1732                    normal chest x . <END>                  3  \n",
              "1     no acute cardiopulmonary process . <END>                 87  \n",
              "63    no acute cardiopulmonary process . <END>                 87  "
            ]
          },
          "execution_count": 10,
          "metadata": {},
          "output_type": "execute_result"
        }
      ],
      "source": [
        "df.columns = ['impression', 'image_1', 'image_2', 'impression_x', 'xml file name','impression_final', 'impression_ip', 'impression_op', 'impression_counts']\n",
        "del df['impression_x']\n",
        "\n",
        "df.head()"
      ]
    },
    {
      "cell_type": "markdown",
      "metadata": {
        "id": "kR29yC4M8NU2"
      },
      "source": [
        "## **Dividing data to train and test**"
      ]
    },
    {
      "cell_type": "code",
      "execution_count": null,
      "metadata": {
        "id": "KPI5WelE8NU2",
        "outputId": "aba0caf1-4f93-49d5-ed99-d6860f31ab9a"
      },
      "outputs": [
        {
          "data": {
            "text/plain": [
              "(3257, 563)"
            ]
          },
          "execution_count": 11,
          "metadata": {},
          "output_type": "execute_result"
        }
      ],
      "source": [
        "from sklearn.model_selection import train_test_split\n",
        "majority = df[df['impression_counts'] > 5] #selecting records which have impression counts > 5\n",
        "minority = df[df['impression_counts'] <= 5] #selecting records which have impression counts <= 5\n",
        "\n",
        "train, test = train_test_split(majority, stratify = majority['impression'].values, test_size = 0.1, random_state = 420)\n",
        "test_minority_sample = minority.sample(int(0.2 * minority.shape[0]), random_state = 420) #getting some records from minority for test data\n",
        "minority = minority.drop(test_minority_sample.index, axis = 0)\n",
        "\n",
        "test = test.append(test_minority_sample)\n",
        "test = test.reset_index(drop = True)\n",
        "\n",
        "train = train.append(minority) \n",
        "train = train.reset_index(drop = True)\n",
        "train.shape[0], test.shape[0]"
      ]
    },
    {
      "cell_type": "code",
      "execution_count": null,
      "metadata": {
        "colab": {
          "base_uri": "https://localhost:8080/"
        },
        "id": "XGl_3rtC1yQR",
        "outputId": "74ee7cc6-4eb9-4a55-80f7-52de273521b5"
      },
      "outputs": [
        {
          "data": {
            "text/plain": [
              "(4487, 8)"
            ]
          },
          "execution_count": 12,
          "metadata": {},
          "output_type": "execute_result"
        }
      ],
      "source": [
        "# Upsampling and Downsampling to balance data\n",
        "from sklearn.utils import resample\n",
        "df_majority = train[train['impression_counts'] >= 100] \n",
        "df_minority = train[train['impression_counts'] <= 5] \n",
        "df_middle = train[(train['impression_counts'] > 5) & (train['impression_counts'] < 100)] \n",
        "\n",
        "n1 = df_minority.shape[0]\n",
        "n2 = df_majority.shape[0]\n",
        "n3 = df_middle.shape[0]\n",
        "\n",
        "\n",
        "df_minority_upsampled = resample(df_minority, replace = True, n_samples = 3*n1, random_state = 420)\n",
        "\n",
        "df_majority_downsampled = resample(df_majority, replace = False, n_samples = n2//15, random_state = 420)\n",
        "\n",
        "df_middle_downsampled = resample(df_middle, replace = False, n_samples = n3//10, random_state = 420)\n",
        "\n",
        "train = pd.concat([df_majority_downsampled ,df_minority_upsampled, df_middle_downsampled])\n",
        "\n",
        "train = train.reset_index(drop = True)\n",
        "\n",
        "train.shape"
      ]
    },
    {
      "cell_type": "code",
      "execution_count": null,
      "metadata": {
        "colab": {
          "base_uri": "https://localhost:8080/"
        },
        "id": "356XEjbfxE8z",
        "outputId": "544d09d4-1ba5-472b-df8c-e017cd974fdb"
      },
      "outputs": [
        {
          "data": {
            "text/plain": [
              "comparison well expanded and clear lungs . mediastinal contour within normal limits . no acute cardiopulmonary abnormality identified .                      21\n",
              "change . hypoinflation with no visible active cardiopulmonary disease .                                                                                      20\n",
              "no evidence of acute cardiopulmonary process . stable appearance of the chest .                                                                              19\n",
              "normal chest film .                                                                                                                                          18\n",
              "no acute cardiopulmonary abnormality .                                                                                                                       17\n",
              "                                                                                                                                                             ..\n",
              "chest . no acute cardiopulmonary findings . right knee . stable advanced degenerative changes most severe in the medial compartment .                         1\n",
              "emphysematous change without evidence of acute cardiopulmonary process .                                                                                      1\n",
              "no acute findings . please note that fractures may not be demonstrated and consider additional imaging as clinically indicated .                              1\n",
              "suspected cardiomegaly less pericardial effusion . prior comparison studies would be helpful . low lung volumes . no evidence of focal airspace disease .     1\n",
              "no acute bony abnormalities . no acute cardiopulmonary abnormalities .                                                                                        1\n",
              "Name: impression, Length: 1333, dtype: int64"
            ]
          },
          "execution_count": 13,
          "metadata": {},
          "output_type": "execute_result"
        }
      ],
      "source": [
        "train.impression.value_counts()"
      ]
    },
    {
      "cell_type": "code",
      "execution_count": null,
      "metadata": {
        "id": "6Jo9VgQsqfrh"
      },
      "outputs": [],
      "source": [
        "# Saving the dataframe\n",
        "folder_name = 'pickle_files'\n",
        "file_name = 'train.pkl'\n",
        "train.to_pickle(os.path.join(folder_name,file_name))\n",
        "\n",
        "file_name = 'test.pkl'\n",
        "test.to_pickle(os.path.join(folder_name,file_name))"
      ]
    },
    {
      "cell_type": "code",
      "execution_count": null,
      "metadata": {
        "id": "XnCtjKE2I2_b"
      },
      "outputs": [],
      "source": [
        "# Reading the pickle files to get the train and test dataframes\n",
        "folder_name = 'pickle_files'\n",
        "file_name = 'train.pkl'\n",
        "train = pd.read_pickle(os.path.join(folder_name,file_name))\n",
        "\n",
        "file_name = 'test.pkl'\n",
        "test = pd.read_pickle(os.path.join(folder_name,file_name))"
      ]
    },
    {
      "cell_type": "markdown",
      "metadata": {
        "id": "pHc1Z2hS8NU6"
      },
      "source": [
        "## **Tokenizer**"
      ]
    },
    {
      "cell_type": "code",
      "execution_count": null,
      "metadata": {
        "id": "rgjFwjEjpSFa"
      },
      "outputs": [],
      "source": [
        "tokenizer = Tokenizer(filters = '', oov_token = '<unk>')\n",
        "\n",
        "tokenizer.fit_on_texts(train.impression_final.values)\n",
        "\n",
        "train_captions = tokenizer.texts_to_sequences(train.impression_final) \n",
        "test_captions = tokenizer.texts_to_sequences(test.impression_final) \n",
        "\n",
        "vocab_size = len(tokenizer.word_index)\n",
        "\n",
        "caption_len = np.array([len(i) for i in train_captions])\n",
        "\n",
        "start_index = tokenizer.word_index['<cls>'] #token value of <cls>\n",
        "end_index = tokenizer.word_index['<end>'] #token value of <end>\n"
      ]
    },
    {
      "cell_type": "code",
      "execution_count": null,
      "metadata": {
        "id": "SFXljlYB8NU6",
        "outputId": "eb92cffe-e45f-4dbb-ca17-ef3ff38f1929"
      },
      "outputs": [
        {
          "data": {
            "image/png": "[encoded data removed]",
            "text/plain": [
              "<Figure size 432x432 with 1 Axes>"
            ]
          },
          "metadata": {},
          "output_type": "display_data"
        },
        {
          "name": "stdout",
          "output_type": "stream",
          "text": [
            "\n",
            "Value Counts for caption length\n",
            "\n",
            "Length | Counts\n",
            "8      280\n",
            "12     272\n",
            "14     263\n",
            "7      252\n",
            "11     238\n",
            "      ... \n",
            "76       2\n",
            "135      2\n",
            "78       1\n",
            "70       1\n",
            "77       1\n",
            "Length: 73, dtype: int64\n",
            "\n",
            "The max and min values of \"caption length\" is 135 and 4\n",
            "The 80 percentile values of caption_len which is 28 will be taken as the maximum padded value for each impression\n"
          ]
        }
      ],
      "source": [
        "# Visualizing the impression length\n",
        "ax = sns.displot(caption_len, height = 6)\n",
        "ax.set_titles('Value Counts vs Caption Length')\n",
        "ax.set_xlabels('Impresion length')\n",
        "plt.show()\n",
        "\n",
        "print('\\nValue Counts for caption length\\n')\n",
        "print('Length | Counts')\n",
        "print(pd.Series(caption_len).value_counts())\n",
        "print('\\nThe max and min values of \"caption length\" is %i and %i' % (max(caption_len), min(caption_len)))\n",
        "print('The 80 percentile values of caption_len which is %i will be taken as the maximum padded value for each impression' % (np.percentile(caption_len, 80)))\n",
        "max_pad = int(np.percentile(caption_len, 80))\n"
      ]
    },
    {
      "cell_type": "markdown",
      "metadata": {
        "id": "CKvtBtxJ8NU7"
      },
      "source": [
        "### **Hyperparameters**"
      ]
    },
    {
      "cell_type": "code",
      "execution_count": null,
      "metadata": {
        "id": "WojEEVYsLErk"
      },
      "outputs": [],
      "source": [
        "batch_size = 100\n",
        "embedding_dim = 300\n",
        "dense_dim = 512\n",
        "lstm_units = dense_dim\n",
        "dropout_rate = 0.2"
      ]
    },
    {
      "cell_type": "markdown",
      "metadata": {
        "id": "R58RYZR904HU"
      },
      "source": [
        "## **Data pipeline**"
      ]
    },
    {
      "cell_type": "code",
      "execution_count": null,
      "metadata": {
        "id": "HFnvuCYLGf_n"
      },
      "outputs": [],
      "source": [
        "class Dataset():\n",
        "  # images converted to context vector and corresponding captions\n",
        "    def __init__(self,df,input_size,tokenizer = tokenizer, augmentation = True,max_pad = max_pad): \n",
        "        \"\"\"\n",
        "        df = dataframe containing image_1 and image_2 and the impression.\n",
        "        \"\"\"\n",
        "        self.image1 = df.image_1\n",
        "        self.image2 = df.image_2\n",
        "        self.caption = df.impression_ip #input\n",
        "        self.caption1 = df.impression_op  # output\n",
        "        self.input_size = input_size \n",
        "        self.tokenizer = tokenizer\n",
        "        self.augmentation = augmentation\n",
        "        self.max_pad = max_pad\n",
        "\n",
        "        #image augmentation\n",
        "        \n",
        "        self.aug1 = iaa.Fliplr(1) #flip images horizaontally\n",
        "        self.aug2 = iaa.Flipud(1) #flip images vertically\n",
        "\n",
        "\n",
        "    def __getitem__(self,i):\n",
        "        \"\"\"\n",
        "        Gets the record at index 'i', resizes the images and applies augmentation\n",
        "        \"\"\"\n",
        "        image1 = cv2.imread(self.image1[i], cv2.IMREAD_UNCHANGED)/255 \n",
        "        image2 = cv2.imread(self.image2[i], cv2.IMREAD_UNCHANGED)/255 #here there are 3 channels\n",
        "        image1 = cv2.resize(image1, self.input_size, interpolation = cv2.INTER_NEAREST)\n",
        "        image2 = cv2.resize(image2, self.input_size, interpolation = cv2.INTER_NEAREST)\n",
        "        \n",
        "        # Print messages if missing images are found\n",
        "        if image1.any()==None:\n",
        "            print(\"%i , %s image sent null value\"%(i,self.image1[i]))\n",
        "        if image2.any()==None:\n",
        "            print(\"%i , %s image sent null value\"%(i,self.image2[i]))\n",
        "\n",
        "\n",
        "        # Tokenizing and Padding the captions\n",
        "        caption = self.tokenizer.texts_to_sequences(self.caption[i : i + 1]) #the input should be an array for tokenizer ie [self.caption[i]] \n",
        "\n",
        "        caption = pad_sequences(caption, maxlen = self.max_pad, padding = 'post') #opshape:(input_length,)\n",
        "        caption = tf.squeeze(caption, axis=0) #opshape = (input_length,) removing unwanted axis if present\n",
        "\n",
        "        caption1 = self.tokenizer.texts_to_sequences(self.caption1[i : i+1]) #the input should be an array for tokenizer ie [self.caption[i]] \n",
        "\n",
        "        caption1 = pad_sequences(caption1, maxlen = self.max_pad, padding = 'post') #opshape: (input_length,)\n",
        "        caption1 = tf.squeeze(caption1, axis = 0) #opshape = (input_length,) removing unwanted axis if present\n",
        "\n",
        "\n",
        "\n",
        "        # Applying the augmentation\n",
        "        if self.augmentation:  \n",
        "            a = np.random.uniform()\n",
        "            \n",
        "            if a<0.333:\n",
        "                image1 = self.aug1.augment_image(image1)\n",
        "                image2 = self.aug1.augment_image(image2)\n",
        "                \n",
        "            elif a<0.667:\n",
        "                image1 = self.aug2.augment_image(image1)\n",
        "                image2 = self.aug2.augment_image(image2)\n",
        "                \n",
        "            else: \n",
        "                #applying no augmentation\n",
        "                pass;\n",
        "\n",
        "    \n",
        "        return image1,image2,caption,caption1\n",
        "\n",
        "    \n",
        "    def __len__(self):\n",
        "        return len(self.image1)\n",
        "\n",
        "\n",
        "class Dataloader(tf.keras.utils.Sequence):    \n",
        "    \"\"\"\n",
        "    Divide data into batches.\n",
        "    \"\"\"\n",
        "    \n",
        "    def __init__(self, dataset, batch_size=1, shuffle=True):\n",
        "        self.dataset = dataset\n",
        "        self.batch_size = batch_size\n",
        "        self.shuffle = shuffle\n",
        "        self.indexes = np.arange(len(self.dataset))\n",
        "\n",
        "    def __getitem__(self, i):\n",
        "        start = i * self.batch_size\n",
        "        stop = (i + 1) * self.batch_size\n",
        "        indexes = [self.indexes[j] for j in range(start,stop)] \n",
        "        data = [self.dataset[j] for j in indexes] \n",
        "        \n",
        "        batch = [np.stack(samples, axis = 0) for samples in zip(*data)] #here the shape will become batch_size*input_size(of image)*3,batch_size*input_size(of image)*3\n",
        "                                                                      #,batch_size*1*max_pad\n",
        "        return tuple([[batch[0], batch[1], batch[2]], batch[3]]) #here [image1,image2, caption(without <END>)],caption(without <CLS>) (op)\n",
        "    \n",
        "    def __len__(self): \n",
        "        # returns total number of batches in an epoch\n",
        "        return len(self.indexes) // self.batch_size\n",
        "    \n",
        "    def on_epoch_end(self): \n",
        "        # runs at the end of each epoch to shuffle data\n",
        "        if self.shuffle:\n",
        "            np.random.shuffle(self.indexes) #in-place shuffling takes place"
      ]
    },
    {
      "cell_type": "code",
      "execution_count": null,
      "metadata": {
        "id": "kh3MLkj7ofJq"
      },
      "outputs": [],
      "source": [
        "input_size = (224,224)\n",
        "train_dataloader = Dataset(train,input_size)\n",
        "train_dataloader = Dataloader(train_dataloader,batch_size = batch_size)\n",
        "\n",
        "test_dataloader = Dataset(test,input_size)\n",
        "test_dataloader = Dataloader(test_dataloader,batch_size = batch_size)"
      ]
    },
    {
      "cell_type": "markdown",
      "metadata": {
        "id": "UqV7xRCJrpfr"
      },
      "source": [
        "## **Encoder**\n",
        "[CheXNET Model](https://arxiv.org/pdf/1711.05225.pdf) is a Dense-121 layered model which is trained on thousands of chest x-ray images for the classification of 14 diseases. We can load the weights of that model and pass the image through it."
      ]
    },
    {
      "cell_type": "code",
      "execution_count": null,
      "metadata": {
        "id": "S1QSD4DWKZtU"
      },
      "outputs": [],
      "source": [
        "def create_chexnet(chexnet_weights = chexnet_weights):\n",
        "    \"\"\"\n",
        "    chexnet_weights: weights value in .h5 format of chexnet\n",
        "    creates a chexnet model with preloaded weights present in chexnet_weights file\n",
        "    \"\"\"\n",
        "    model = tf.keras.applications.DenseNet121(include_top=False) #importing densenet the last layer will be a relu activation layer\n",
        "\n",
        "    #we need to load the weights so setting the architecture of the model as same as the one of tha chexnet\n",
        "    x = model.output #output from chexnet\n",
        "    x = GlobalAveragePooling2D()(x)\n",
        "    x = Dense(14, activation=\"sigmoid\", name=\"chexnet_output\")(x) #here activation is sigmoid as seen in research paper\n",
        "\n",
        "    chexnet = tf.keras.Model(inputs = model.input,outputs = x)\n",
        "    chexnet.load_weights(chexnet_weights)\n",
        "    chexnet = tf.keras.Model(inputs = model.input,outputs = chexnet.layers[-2].output)  #we will be taking the penultimate layer (second last layer here it is global avgpooling)\n",
        "    return chexnet"
      ]
    },
    {
      "cell_type": "code",
      "execution_count": null,
      "metadata": {
        "id": "tMuXPuHmTi8R"
      },
      "outputs": [],
      "source": [
        "chexnet = create_chexnet()\n",
        "chexnet.trainable = False"
      ]
    },
    {
      "cell_type": "code",
      "execution_count": null,
      "metadata": {
        "id": "xz3x7zZ5Sc4B"
      },
      "outputs": [],
      "source": [
        "del chexnet"
      ]
    },
    {
      "cell_type": "markdown",
      "metadata": {
        "id": "D2HoGdK62ej8"
      },
      "source": [
        "## Baseline Encoder Decoder Model"
      ]
    },
    {
      "cell_type": "markdown",
      "metadata": {
        "id": "M-fGv38z2kgw"
      },
      "source": [
        "### Image Encoder Layer"
      ]
    },
    {
      "cell_type": "code",
      "execution_count": null,
      "metadata": {
        "id": "ZmEPU1JU2nyk"
      },
      "outputs": [],
      "source": [
        "class Image_encoder(tf.keras.layers.Layer):\n",
        "    \"\"\"\n",
        "    Return image backbone features after passing it through chexnet.\n",
        "    \"\"\"\n",
        "    def __init__(self, name = \"image_encoder_block\"):\n",
        "        super().__init__()\n",
        "        self.chexnet = create_chexnet()\n",
        "        self.chexnet.trainable = False\n",
        "        \n",
        "    def call(self,data):\n",
        "        op = self.chexnet(data)\n",
        "        return op"
      ]
    },
    {
      "cell_type": "markdown",
      "metadata": {
        "id": "jyi86xb0PbHL"
      },
      "source": [
        "## **Model**"
      ]
    },
    {
      "cell_type": "code",
      "execution_count": null,
      "metadata": {
        "id": "nlQSB8kvBWPI"
      },
      "outputs": [],
      "source": [
        "embedding_dim = 300\n",
        "dense_dim = 512\n",
        "lstm_units = dense_dim\n",
        "dropout_rate = 0.2"
      ]
    },
    {
      "cell_type": "code",
      "execution_count": null,
      "metadata": {
        "id": "O-iY0BfgcQbz"
      },
      "outputs": [],
      "source": [
        "# Using Glove to get initial weights for embedding layer in model\n",
        "glove = {}\n",
        "with open('glove.6B.300d.txt', encoding='utf-8') as f: #taking 300 dimesions\n",
        "    for line in f:\n",
        "        word = line.split() # stored as string: \"'the': '.418 0.24968 -0.41242 0.1217 0.34527 -0.044457 -0.4\"\n",
        "        glove[word[0]] = np.asarray(word[1:], dtype='float32')\n",
        "\n",
        "\n",
        "embedding_dim = 300\n",
        "# create a weight matrix for words in training docs for embedding purpose\n",
        "embedding_matrix = np.zeros((vocab_size+1, embedding_dim))\n",
        "\n",
        "for word, i in tokenizer.word_index.items():\n",
        "    embedding_vector = glove.get(word)\n",
        "    if embedding_vector is not None: #if the word is found in glove vectors\n",
        "        embedding_matrix[i] = embedding_vector[:embedding_dim]"
      ]
    },
    {
      "cell_type": "code",
      "execution_count": null,
      "metadata": {
        "id": "VQmLGsURhqoH"
      },
      "outputs": [],
      "source": [
        "tf.keras.backend.clear_session()\n",
        "image1 = Input(shape = (input_size + (3,))) \n",
        "image2 = Input(shape = (input_size + (3,))) \n",
        "caption = Input(shape = (max_pad,))\n",
        "\n",
        "# Extract Images backbone features to be used as decoder context vector\n",
        "img_encoder = Image_encoder() \n",
        "bk_feat1 = img_encoder(image1)\n",
        "bk_feat2 = img_encoder(image2)\n",
        "bk_features_concat = Concatenate(axis=-1)([bk_feat1,bk_feat2]) \n",
        "\n",
        "image_dense = Dense(dense_dim, activation = 'relu', name = 'Image_dense', use_bias = 'False')\n",
        "\n",
        "                    \n",
        "image_bkbone = image_dense(bk_features_concat) \n",
        "image_dense_op = tf.keras.backend.expand_dims(image_bkbone,axis=1)\n",
        "\n",
        "\n",
        "embedding = Embedding(input_dim  = vocab_size+1, output_dim = embedding_dim, input_length = max_pad,\n",
        "                      mask_zero = True, weights = [embedding_matrix], name = 'embedding')\n",
        "embed_op = embedding(caption)\n",
        "\n",
        "lstm_layer = LSTM(units = lstm_units, return_sequences= True, return_state = True)\n",
        "lstm_op,lstm_h,lstm_c = lstm_layer(embed_op,initial_state = [image_bkbone,image_bkbone]) #op_shape = batch_size*input_length*lstm_units\n",
        "\n",
        "add = Add()([image_dense_op,lstm_op]) #op_shape: (?,input_lenght,lstm_units/dense_dim)\n",
        "\n",
        "op_dense = Dense(vocab_size+1, activation = 'softmax', name = 'output_dense') #op: (?,input_length,vocab_size+1)\n",
        "\n",
        "output = op_dense(add)\n",
        "\n",
        "model = tf.keras.Model(inputs = [image1,image2,caption], outputs = output)"
      ]
    },
    {
      "cell_type": "code",
      "execution_count": null,
      "metadata": {
        "colab": {
          "base_uri": "https://localhost:8080/"
        },
        "id": "KXuA5l1JPh_T",
        "outputId": "44560c77-3ad8-4696-8de3-1ccfd57f6e67"
      },
      "outputs": [
        {
          "name": "stdout",
          "output_type": "stream",
          "text": [
            "Model: \"model_2\"\n",
            "__________________________________________________________________________________________________\n",
            " Layer (type)                   Output Shape         Param #     Connected to                     \n",
            "==================================================================================================\n",
            " input_1 (InputLayer)           [(None, 224, 224, 3  0           []                               \n",
            "                                )]                                                                \n",
            "                                                                                                  \n",
            " input_2 (InputLayer)           [(None, 224, 224, 3  0           []                               \n",
            "                                )]                                                                \n",
            "                                                                                                  \n",
            " image_encoder (Image_encoder)  (None, 1024)         7037504     ['input_1[0][0]',                \n",
            "                                                                  'input_2[0][0]']                \n",
            "                                                                                                  \n",
            " concatenate (Concatenate)      (None, 2048)         0           ['image_encoder[0][0]',          \n",
            "                                                                  'image_encoder[1][0]']          \n",
            "                                                                                                  \n",
            " input_3 (InputLayer)           [(None, 28)]         0           []                               \n",
            "                                                                                                  \n",
            " Image_dense (Dense)            (None, 512)          1049088     ['concatenate[0][0]']            \n",
            "                                                                                                  \n",
            " embedding (Embedding)          (None, 28, 300)      397800      ['input_3[0][0]']                \n",
            "                                                                                                  \n",
            " tf.expand_dims (TFOpLambda)    (None, 1, 512)       0           ['Image_dense[0][0]']            \n",
            "                                                                                                  \n",
            " lstm (LSTM)                    [(None, 28, 512),    1665024     ['embedding[0][0]',              \n",
            "                                 (None, 512),                     'Image_dense[0][0]',            \n",
            "                                 (None, 512)]                     'Image_dense[0][0]']            \n",
            "                                                                                                  \n",
            " add (Add)                      (None, 28, 512)      0           ['tf.expand_dims[0][0]',         \n",
            "                                                                  'lstm[0][0]']                   \n",
            "                                                                                                  \n",
            " output_dense (Dense)           (None, 28, 1326)     680238      ['add[0][0]']                    \n",
            "                                                                                                  \n",
            "==================================================================================================\n",
            "Total params: 10,829,654\n",
            "Trainable params: 3,792,150\n",
            "Non-trainable params: 7,037,504\n",
            "__________________________________________________________________________________________________\n"
          ]
        }
      ],
      "source": [
        "model.summary()"
      ]
    },
    {
      "cell_type": "markdown",
      "metadata": {
        "id": "lWx4MBVb8NU_"
      },
      "source": [
        "## **Customized Loss Function**"
      ]
    },
    {
      "cell_type": "code",
      "execution_count": null,
      "metadata": {
        "id": "jHXrtCXCtqXB"
      },
      "outputs": [],
      "source": [
        "#Loss function\n",
        "loss_func = tf.keras.losses.SparseCategoricalCrossentropy()\n",
        "\n",
        "def custom_loss(y_true, y_pred):\n",
        "    \n",
        "    mask = tf.math.logical_not(tf.math.equal(y_true, 0))\n",
        "    \n",
        "    loss = loss_func(y_true, y_pred)\n",
        "    \n",
        "    mask = tf.cast(mask, dtype = loss.dtype)\n",
        "    \n",
        "    loss = loss * mask\n",
        "    \n",
        "    return tf.reduce_mean(loss)"
      ]
    },
    {
      "cell_type": "markdown",
      "metadata": {
        "id": "UHcpCPoC8NU_"
      },
      "source": [
        "## **Training**"
      ]
    },
    {
      "cell_type": "code",
      "execution_count": null,
      "metadata": {
        "id": "J8ugqzef8NU_"
      },
      "outputs": [],
      "source": [
        "lr = 10**-3\n",
        "optimizer = tf.keras.optimizers.Adam(learning_rate = lr)   \n",
        "model.compile(optimizer = optimizer, loss = custom_loss, metrics = ['accuracy'])"
      ]
    },
    {
      "cell_type": "code",
      "execution_count": null,
      "metadata": {
        "id": "1ftEXDN0PINV"
      },
      "outputs": [],
      "source": [
        "tf.keras.backend.clear_session()\n",
        "tb_filename = 'Simple_Encoder_Decoder/'\n",
        "tb_file = os.path.join('Medical image Reporting', tb_filename)\n",
        "model_filename = 'Simple_Encoder_Decoder.h5'\n",
        "model_save = os.path.join('Medical image Reporting', model_filename)\n",
        "\n",
        "my_callbacks = [\n",
        "    tf.keras.callbacks.EarlyStopping(patience = 5, verbose = 2),\n",
        "    \n",
        "    tf.keras.callbacks.ModelCheckpoint(filepath=model_save, save_best_only = True, save_weights_only = True, verbose = 2),\n",
        "    tf.keras.callbacks.TensorBoard(histogram_freq=1, log_dir=tb_file),\n",
        "    tf.keras.callbacks.ReduceLROnPlateau(monitor='val_loss', factor=0.1, patience=2, min_lr=10**-7, verbose = 2)\n",
        "                                   \n",
        "] "
      ]
    },
    {
      "cell_type": "code",
      "execution_count": null,
      "metadata": {
        "colab": {
          "base_uri": "https://localhost:8080/"
        },
        "id": "bebjKw5PtfLl",
        "outputId": "9e2cad49-9bfb-42cf-f7e3-3921800dd734"
      },
      "outputs": [
        {
          "name": "stdout",
          "output_type": "stream",
          "text": [
            "Epoch 1/10\n",
            " 7/44 [===>..........................] - ETA: 1:39 - loss: 1.7145 - accuracy: 0.0329  "
          ]
        }
      ],
      "source": [
        "model.fit(train_dataloader,\n",
        "          validation_data = test_dataloader,\n",
        "          epochs = 10,\n",
        "          callbacks = my_callbacks\n",
        "          )"
      ]
    },
    {
      "cell_type": "code",
      "execution_count": null,
      "metadata": {
        "id": "OEK3evXkz99k"
      },
      "outputs": [],
      "source": [
        "model_filename = 'Simple_Encoder_Decoder_Base.h5'\n",
        "model_save = os.path.join('Medical image Reporting',model_filename)\n",
        "model1 = tf.keras.Model(inputs = [image1,image2,caption], outputs = output)\n",
        "model1.load_weights(model_save)"
      ]
    },
    {
      "cell_type": "markdown",
      "metadata": {
        "id": "tzsDaRLa8NVA"
      },
      "source": [
        "## **Training vs Validation**"
      ]
    },
    {
      "cell_type": "code",
      "execution_count": null,
      "metadata": {
        "id": "92TGlpyooPFF"
      },
      "outputs": [],
      "source": [
        "%load_ext tensorboard"
      ]
    },
    {
      "cell_type": "code",
      "execution_count": null,
      "metadata": {
        "id": "TzgU5IIfmlDm"
      },
      "outputs": [],
      "source": [
        "%tensorboard --logdir 'Medical image Reporting/'"
      ]
    },
    {
      "cell_type": "markdown",
      "metadata": {
        "id": "jpkD4NJlowQn"
      },
      "source": [
        "## **Predictions**"
      ]
    },
    {
      "cell_type": "code",
      "execution_count": null,
      "metadata": {
        "id": "rm64z2YxpDGE"
      },
      "outputs": [],
      "source": [
        "def get_bleu(reference,prediction):\n",
        "    \"\"\"\n",
        "    Returns 1-gram,2-gram,3-gram and 4-gram bleu scores.\n",
        "    \"\"\"\n",
        "    \n",
        "    reference = [reference.split()]\n",
        "    prediction = prediction.split()\n",
        "    \n",
        "    bleu1 = sentence_bleu(reference, prediction, weights = (1,0,0,0),)\n",
        "    bleu2 = sentence_bleu(reference, prediction, weights = (0.5,0.5,0,0))\n",
        "    bleu3 = sentence_bleu(reference, prediction, weights = (0.33,0.33,0.33,0))\n",
        "    bleu4 = sentence_bleu(reference, prediction, weights = (0.25,0.25,0.25,0.25))\n",
        "\n",
        "    return bleu1,bleu2,bleu3,bleu4"
      ]
    },
    {
      "cell_type": "code",
      "execution_count": null,
      "metadata": {
        "id": "N_SjwE5gHzA3"
      },
      "outputs": [],
      "source": [
        "#Calculate bleu scores for every record\n",
        "def mean_bleu(test, predict, model = model1, **kwargs):\n",
        "    \"\"\"\n",
        "    Takes in a Dataframe and a predict function then outputs the mean BLEU scores for 1, 2, 3 and 4-grams\n",
        "    \"\"\"\n",
        "    if kwargs != None:\n",
        "        top_k = kwargs.get('top_k')\n",
        "    else:\n",
        "        top_k = None\n",
        "        bleu1, bleu2, bleu3, bleu4 = [],[],[],[]\n",
        "    \n",
        "    for index, data in test.iterrows():\n",
        "        if top_k == None:\n",
        "            predict_val = predict(data['image_1'], data['image_2'], model = model) \n",
        "        else:\n",
        "            predict_val = predict(data['image_1'], data['image_2'], model = model, top_k = top_k)\n",
        "        \n",
        "        true = data.impression\n",
        "        bleu_score = get_bleu(true,predict_val)\n",
        "        bleu1.append(bleu_score[0])\n",
        "        bleu2.append(bleu_score[1])\n",
        "        bleu3.append(bleu_score[2])\n",
        "        bleu4.append(bleu_score[3])\n",
        "        \n",
        "    return np.array(bleu1).mean(), np.array(bleu2).mean(), np.array(bleu3).mean(), np.array(bleu4).mean()"
      ]
    },
    {
      "cell_type": "markdown",
      "metadata": {
        "id": "Wy-ZeAzso8C-"
      },
      "source": [
        "### **Greedy Search**"
      ]
    },
    {
      "cell_type": "markdown",
      "metadata": {
        "id": "IPULAeud8NVB"
      },
      "source": [
        "![image.png](data:image/png;base64,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)"
      ]
    },
    {
      "cell_type": "code",
      "execution_count": null,
      "metadata": {
        "id": "NwoVPaGEznng"
      },
      "outputs": [],
      "source": [
        "def greedy_search_predict(image1, image2, model = model1):\n",
        "    \"\"\"\n",
        "    Takes in two X-Ray images then produces a caption uses the greedy search algorithm\n",
        "    \"\"\"\n",
        "    image1 = cv2.imread(image1,cv2.IMREAD_UNCHANGED)/255 \n",
        "    image2 = cv2.imread(image2,cv2.IMREAD_UNCHANGED)/255 \n",
        "    image1 = tf.expand_dims(cv2.resize(image1,input_size,interpolation = cv2.INTER_NEAREST),axis=0) #introduce batch and resize\n",
        "    image2 = tf.expand_dims(cv2.resize(image2,input_size,interpolation = cv2.INTER_NEAREST),axis=0)\n",
        "\n",
        "\n",
        "    image1 = model.get_layer('image_encoder')(image1) #output from chexnet\n",
        "    image2 = model.get_layer('image_encoder')(image2)\n",
        "\n",
        "\n",
        "    concat = model.get_layer('concatenate')([image1,image2])\n",
        "    image_dense = model.get_layer('Image_dense')(concat)\n",
        "    bk_feat = tf.keras.backend.expand_dims(image_dense,axis=1)\n",
        "\n",
        "\n",
        "    states = [image_dense, image_dense]\n",
        "    a = []\n",
        "    pred = []\n",
        "    for i in range(max_pad):\n",
        "        if i==0: \n",
        "            #if first word\n",
        "            caption = np.array(tokenizer.texts_to_sequences(['<cls>'])) #shape: (1,1)\n",
        "        \n",
        "        caption= model.get_layer('embedding')(caption) #embedding shape = 1*1*300\n",
        "        caption,state_h,state_c = model.get_layer('lstm')(caption,initial_state = states) #lstm 1*1*512\n",
        "        states = [state_h,state_c]\n",
        "\n",
        "        add = model.get_layer('add')([bk_feat,caption]) #add\n",
        "        output = model.get_layer('output_dense')(add) #1*1*vocab_size (batch_size=1)\n",
        "\n",
        "        #prediction\n",
        "        max_prob = tf.argmax(output,axis=-1) #tf.Tensor of shape = (1,1)\n",
        "        caption = np.array(max_prob) #will be sent to embedding for next iteration\n",
        "        if max_prob==np.squeeze(tokenizer.texts_to_sequences(['<end>'])): \n",
        "            break;\n",
        "        else:\n",
        "            a.append(tf.squeeze(max_prob).numpy())\n",
        "            \n",
        "    return tokenizer.sequences_to_texts([a])[0]"
      ]
    },
    {
      "cell_type": "code",
      "execution_count": null,
      "metadata": {
        "id": "YcaNPvyNDnd-"
      },
      "outputs": [],
      "source": [
        "%%time\n",
        "k=-1\n",
        "image1,image2 = test['image_1'].iloc[k],test['image_2'].iloc[k]\n",
        "print(greedy_search_predict(image1, image2, model = model))"
      ]
    },
    {
      "cell_type": "code",
      "execution_count": null,
      "metadata": {
        "id": "5e1GxDVe8iEd"
      },
      "outputs": [],
      "source": [
        "%%time\n",
        "_ = mean_bleu(test,greedy_search_predict)"
      ]
    },
    {
      "cell_type": "code",
      "execution_count": null,
      "metadata": {
        "id": "HpUICrFrlDcL"
      },
      "outputs": [],
      "source": [
        "k = list(_)\n",
        "index = 'greedy search'\n",
        "result = pd.DataFrame([k],columns = [\"bleu1\",\"bleu2\",\"bleu3\",\"bleu4\"],index = [index])"
      ]
    },
    {
      "cell_type": "code",
      "execution_count": null,
      "metadata": {
        "id": "20ln8h5t2FAE"
      },
      "outputs": [],
      "source": [
        "result"
      ]
    },
    {
      "cell_type": "markdown",
      "metadata": {
        "id": "r-GOz18EmuIx"
      },
      "source": [
        "### **Beam Search**"
      ]
    },
    {
      "cell_type": "code",
      "execution_count": null,
      "metadata": {
        "id": "5eDJsFMCCbOd"
      },
      "outputs": [],
      "source": [
        "def encoder_op(image1, image2, model = model1):\n",
        "    \"\"\"\n",
        "    Given image1 and image2 filepath, outputs their backbone features which will be input to the decoder\n",
        "    \"\"\"\n",
        "    image1 = cv2.imread(image1, cv2.IMREAD_UNCHANGED) / 255 \n",
        "    image2 = cv2.imread(image2, cv2.IMREAD_UNCHANGED) / 255\n",
        "\n",
        "    image1 = tf.expand_dims(cv2.resize(image1, input_size, interpolation = cv2.INTER_NEAREST), axis = 0) #introduce batch and resize\n",
        "    image2 = tf.expand_dims(cv2.resize(image2, input_size, interpolation = cv2.INTER_NEAREST), axis = 0)\n",
        "\n",
        "    image1 = model.get_layer('image_encoder')(image1) #output from chexnet\n",
        "    image2 = model.get_layer('image_encoder')(image2)\n",
        "\n",
        "    concat = model.get_layer('concatenate')([image1, image2])\n",
        "    image_dense = model.get_layer('Image_dense')(concat)\n",
        "    bk_feat = tf.keras.backend.expand_dims(image_dense, axis = 1)\n",
        "    states = [image_dense, image_dense]\n",
        "    \n",
        "    return bk_feat,states"
      ]
    },
    {
      "cell_type": "code",
      "execution_count": null,
      "metadata": {
        "id": "R2R6sQXwVgot"
      },
      "outputs": [],
      "source": [
        "def beam_search_predict(image1, image2, top_k = 3, max_pad = max_pad, model = model1):\n",
        "    \"\"\"\n",
        "    Given image1, image2 get the top beam search predicted sentence\n",
        "    \"\"\"\n",
        "    k = top_k\n",
        "    cls_token = tokenizer.texts_to_sequences(['<cls>'])[0] #[3]\n",
        "    bk_feat, states = encoder_op(image1, image2)\n",
        "    seq_score = [[cls_token, 0, states]] #[[[3], 0]]\n",
        "    finished_seq_score = []\n",
        "    \n",
        "    for i in range(max_pad): #traverse through all lengths\n",
        "        all_candidates = [] #stores all the top k sequences along with their scores\n",
        "        new_seq_score = [] #stores the seq_score which does not have the <end> token\n",
        "    \n",
        "        for s in seq_score: #traverse for all top k sequences\n",
        "            \n",
        "            text_input = s[0][-1] #getting the last predicted output\n",
        "            states = s[2]\n",
        "            caption = model.get_layer('embedding')(np.array([[text_input]])) #ip must be in shape (batch_size,seq length,dim)\n",
        "            caption,state_h,state_c = model.get_layer('lstm')(caption, initial_state = states)\n",
        "            states = [state_h, state_c]\n",
        "            add = model.get_layer('add')([bk_feat, caption])\n",
        "            output = model.get_layer('output_dense')(add)[0][0] #(vocab_size,)\n",
        "            top_words = tf.argsort(output,direction = 'DESCENDING')[:k] #get the top k words\n",
        "\n",
        "            seq, score, _ = s\n",
        "\n",
        "            for t in top_words.numpy():\n",
        "                #here we will update score with log of probabilities and subtracting(log of prob will be in negative)\n",
        "                #here since its -(log), lower the score higher the prob\n",
        "                candidates = [seq + [t], score-np.log(output[t].numpy()), states] #updating the score and seq\n",
        "                all_candidates.append(candidates)\n",
        "\n",
        "            seq_score = sorted(all_candidates, key = lambda l:l[1])[:k] #getting the top 3 sentences with high prob ie low score\n",
        "            #checks for the <end> token in each sequence obtained\n",
        "            count = 0\n",
        "            end_token = tokenizer.word_index['<end>']\n",
        "            for seq,score,state in seq_score:\n",
        "                if seq[-1] == end_token: #if the last word of the sequence is <end>\n",
        "                    finished_seq_score.append([seq, score])\n",
        "                    count += 1\n",
        "                else:\n",
        "                    new_seq_score.append([seq, score, state])\n",
        "            k -= count #Substracting the no. of finished sentences from beam length\n",
        "            seq_score = new_seq_score\n",
        "\n",
        "            if seq_score==[]: #if null array\n",
        "                break;\n",
        "            else:\n",
        "                continue;\n",
        "\n",
        "    seq_score = finished_seq_score[-1]\n",
        "    sentence = seq_score[0][1:-1] #here <cls> and <end> is here so not considering that\n",
        "    score = seq_score[1]\n",
        "      \n",
        "    return tokenizer.sequences_to_texts([sentence])[0]"
      ]
    },
    {
      "cell_type": "code",
      "execution_count": null,
      "metadata": {
        "id": "fnsAjBFzxR_Q"
      },
      "outputs": [],
      "source": [
        "# beam search with top_k = 3.\n",
        "%%time\n",
        "k = -1\n",
        "image1, image2 = test['image_1'].iloc[k], test['image_2'].iloc[k]\n",
        "print(beam_search_predict(image1, image2, top_k = 3))"
      ]
    },
    {
      "cell_type": "code",
      "execution_count": null,
      "metadata": {
        "id": "KtiLw6fChokh"
      },
      "outputs": [],
      "source": [
        "# beam search with top_k = 5.\n",
        "%%time\n",
        "k = -1\n",
        "image1,image2 = test['image_1'].iloc[k], test['image_2'].iloc[k]\n",
        "print(beam_search_predict(image1, image2, top_k = 5))"
      ]
    },
    {
      "cell_type": "code",
      "execution_count": null,
      "metadata": {
        "id": "yQR2rpuxkJG9"
      },
      "outputs": [],
      "source": [
        "# top_k = 5 is slow so we use 3.\n",
        "%%time\n",
        "_ = mean_bleu(test,beam_search_predict)"
      ]
    },
    {
      "cell_type": "code",
      "execution_count": null,
      "metadata": {
        "id": "nmFgIRn3Xstj"
      },
      "outputs": [],
      "source": [
        "k = list(_)\n",
        "index = 'beam search (top_k = 3)'\n",
        "temp = pd.DataFrame([k],columns = [\"bleu1\", \"bleu2\", \"bleu3\", \"bleu4\"], index = [index])\n",
        "result = result.append(temp)\n",
        "result"
      ]
    },
    {
      "cell_type": "markdown",
      "metadata": {
        "id": "K2Q6mDzg8NVJ"
      },
      "source": [
        "Since greedy search and beam search produce similar results, we'll use the greedy search algorithm since it's faster."
      ]
    },
    {
      "cell_type": "markdown",
      "metadata": {
        "id": "QnWl5DJR-oo8"
      },
      "source": [
        "# **Inference**"
      ]
    },
    {
      "cell_type": "markdown",
      "metadata": {
        "id": "7BFTqtnkyCMr"
      },
      "source": [
        "Now we will predict the captions for all records and see the results manually while also computing BLEU-1 score. We shall use greedy search algorithm with the other models since it is faster."
      ]
    },
    {
      "cell_type": "code",
      "execution_count": null,
      "metadata": {
        "colab": {
          "background_save": true
        },
        "id": "bpYtOoJ8x9IR"
      },
      "outputs": [],
      "source": [
        "%%time\n",
        "test['bleu_1_gs'] = np.zeros(test.shape[0]) #greedy search\n",
        "test['bleu_1_bm'] = np.zeros(test.shape[0]) #beam search\n",
        "test['prediction_gs'] = np.zeros(test.shape[0]) #greedy search\n",
        "test['prediction_bm'] = np.zeros(test.shape[0]) #beam search\n",
        "\n",
        "for index,rows in test.iterrows():\n",
        "    #greedy search\n",
        "    predicted_text = greedy_search_predict(rows.image_1, rows.image_2, model1)\n",
        "    test.loc[index,'prediction_gs'] = predicted_text\n",
        "    reference = [rows['impression'].split()]\n",
        "    test.loc[index,'bleu_1_gs'] = sentence_bleu(reference, predicted_text.split(), weights = (1,0,0,0))\n",
        "\n",
        "    #beam search\n",
        "    predicted_text = beam_search_predict(rows.image_1, rows.image_2, top_k = 3, model = model1)\n",
        "    test.loc[index,'prediction_bm'] = predicted_text\n",
        "    test.loc[index,'bleu_1_bm'] = sentence_bleu(reference, predicted_text.split(), weights = (1,0,0,0))"
      ]
    },
    {
      "cell_type": "code",
      "execution_count": null,
      "metadata": {
        "colab": {
          "background_save": true
        },
        "id": "Xm65P1y-3dof"
      },
      "outputs": [],
      "source": [
        "test['prediction_gs'].value_counts()*100/test.shape[0] #greedy search"
      ]
    },
    {
      "cell_type": "code",
      "execution_count": null,
      "metadata": {
        "colab": {
          "background_save": true
        },
        "id": "z4K28Blj-QZC"
      },
      "outputs": [],
      "source": [
        "test['prediction_bm'].value_counts()*100/test.shape[0] #beam search"
      ]
    },
    {
      "cell_type": "markdown",
      "metadata": {
        "id": "oxrwazdL30vp"
      },
      "source": [
        "From the above results, we can see that for every datapoint the model is predicting \"no acute cardiopulmonary abnormality\" suggesting the model has overfitted."
      ]
    },
    {
      "cell_type": "markdown",
      "metadata": {
        "id": "UXeAHWphyGQm"
      },
      "source": [
        "## Random predictions on test data"
      ]
    },
    {
      "cell_type": "code",
      "execution_count": null,
      "metadata": {
        "colab": {
          "background_save": true
        },
        "id": "Unn4vmnYE0ZO"
      },
      "outputs": [],
      "source": [
        "def final_caption_pred(image1, image2, method = \"beam\", top_k = 3, model = model1):\n",
        "    \"\"\"\n",
        "    Given image1. image2 paths, the model, top_k and the method of prediction returns the predicted caption\n",
        "    method: \"greedy\" or \"g\" for greedy search, \"beam\" or \"b\" for beam search\n",
        "    \"\"\"\n",
        "    if method == 'greedy':\n",
        "        pred_caption = greedy_search_predict(image1, image2, model)\n",
        "    elif method == 'beam':\n",
        "        pred_caption = beam_search_predict(image1, image2, top_k = top_k, model = model)\n",
        "    else:\n",
        "        print(\"Enter 'beam' for beam search or 'greedy' for greedy search\")\n",
        "  \n",
        "    return pred_caption"
      ]
    },
    {
      "cell_type": "code",
      "execution_count": null,
      "metadata": {
        "colab": {
          "background_save": true
        },
        "id": "53hky_mH-x9Y"
      },
      "outputs": [],
      "source": [
        "def inference(image1, image2, true_caption, model = model1, top_k = [3], image_size = (10,20)):\n",
        "    \"\"\"\n",
        "    Given 2 images, the true caption, the model and the range of top_k\n",
        "    prints the two images, true caption along with greedy search prediction and beam search prediction of top_k range\n",
        "    \"\"\"\n",
        "    image1_array = cv2.imread(image1,cv2.IMREAD_UNCHANGED)\n",
        "    image2_array = cv2.imread(image2,cv2.IMREAD_UNCHANGED)\n",
        "    if type(top_k)==int:\n",
        "        top_k = [top_k] #changing it to list if top_k given is of int type\n",
        "    greedy_caption = final_caption_pred(image1,image2,method='greedy',model=model) #getting the greedy search prediction\n",
        "\n",
        "      #printing the 2 images\n",
        "    plt.figure(figsize = image_size)\n",
        "    plt.subplot(121)\n",
        "    plt.imshow(image1_array)\n",
        "    plt.axis(\"off\")\n",
        "\n",
        "    plt.subplot(122)\n",
        "    plt.imshow(image2_array)\n",
        "    plt.axis(\"off\")\n",
        "    plt.show()\n",
        "\n",
        "    print(\"\\nTrue caption: '%s'\"%(true_caption))\n",
        "    print(\"Predicted caption(greedy search): '%s'\"%(greedy_caption))\n",
        "    # beam search of top_k\n",
        "    if top_k != None:\n",
        "        for i in top_k:\n",
        "            beam_caption = final_caption_pred(image1,image2,method='beam',model=model,top_k = i)\n",
        "            print(\"Predicted caption(beam search = %i): '%s'\"%(i,beam_caption))\n"
      ]
    },
    {
      "cell_type": "markdown",
      "metadata": {
        "id": "SQk9bYbf_aQc"
      },
      "source": [
        "### Correct Captions"
      ]
    },
    {
      "cell_type": "code",
      "execution_count": null,
      "metadata": {
        "colab": {
          "background_save": true
        },
        "id": "s1gXKeG-7v36"
      },
      "outputs": [],
      "source": [
        "i = test[test['bleu_1_gs'] > 0.8].sample(5).index\n",
        "for k in i:\n",
        "    image1,image2 = test['image_1'][k], test['image_2'][k]\n",
        "    true_caption = test['impression'][k]\n",
        "    inference(image1,image2,true_caption)"
      ]
    },
    {
      "cell_type": "markdown",
      "metadata": {
        "id": "20ee_yufLkK7"
      },
      "source": [
        "### Incorrect Caption"
      ]
    },
    {
      "cell_type": "code",
      "execution_count": null,
      "metadata": {
        "colab": {
          "background_save": true
        },
        "id": "fhCyGWD779gO"
      },
      "outputs": [],
      "source": [
        "i = test[test['bleu_1_gs'] < 0.3].sample(5).index\n",
        "for k in i:\n",
        "    image1,image2 = test['image_1'][k], test['image_2'][k]\n",
        "    true_caption = test['impression'][k]\n",
        "    inference(image1,image2,true_caption)"
      ]
    },
    {
      "cell_type": "markdown",
      "metadata": {
        "id": "7Tn7rrTNrGvt"
      },
      "source": [
        "# For comparisons"
      ]
    },
    {
      "cell_type": "markdown",
      "metadata": {
        "id": "L87B4UQQtwe0"
      },
      "source": [
        "## Train"
      ]
    },
    {
      "cell_type": "code",
      "execution_count": null,
      "metadata": {
        "id": "YK5AWkdyrbXv"
      },
      "outputs": [],
      "source": [
        "k = 100\n",
        "image1, image2 = train['image_1'][k], train['image_2'][k]\n",
        "true_caption = train['impression'][k]\n",
        "inference(image1, image2, true_caption, top_k = None)"
      ]
    },
    {
      "cell_type": "code",
      "execution_count": null,
      "metadata": {
        "id": "DRPUUEwhrbSg"
      },
      "outputs": [],
      "source": [
        "k = 1000\n",
        "image1,image2 = train['image_1'][k], train['image_2'][k]\n",
        "true_caption = train['impression'][k]\n",
        "inference(image1, image2, true_caption, top_k = None)"
      ]
    },
    {
      "cell_type": "code",
      "execution_count": null,
      "metadata": {
        "id": "sIrCpXWPrbNE"
      },
      "outputs": [],
      "source": [
        "k = 4000\n",
        "image1,image2 = train['image_1'][k], train['image_2'][k]\n",
        "true_caption = train['impression'][k]\n",
        "inference(image1, image2, true_caption, top_k = None)"
      ]
    },
    {
      "cell_type": "markdown",
      "metadata": {
        "id": "8OSP7YQ0t0Wh"
      },
      "source": [
        "## Test"
      ]
    },
    {
      "cell_type": "code",
      "execution_count": null,
      "metadata": {
        "id": "IGIym4aTra9K"
      },
      "outputs": [],
      "source": [
        "k = 160\n",
        "image1, image2 = test['image_1'][k], test['image_2'][k]\n",
        "true_caption = test['impression'][k]\n",
        "inference(image1, image2, true_caption, top_k = None)"
      ]
    },
    {
      "cell_type": "code",
      "execution_count": null,
      "metadata": {
        "id": "J3-1RyhFra2y"
      },
      "outputs": [],
      "source": [
        "k = 290\n",
        "image1,image2 = test['image_1'][k], test['image_2'][k]\n",
        "true_caption = test['impression'][k]\n",
        "inference(image1, image2, true_caption, top_k = None)"
      ]
    },
    {
      "cell_type": "code",
      "execution_count": null,
      "metadata": {
        "id": "NuN_HHbI8NVO"
      },
      "outputs": [],
      "source": [
        "test['image_1'][290], test['image_2'][290]"
      ]
    },
    {
      "cell_type": "code",
      "execution_count": null,
      "metadata": {
        "id": "tsTH1K3Nrasj"
      },
      "outputs": [],
      "source": [
        "k = 25\n",
        "image1, image2 = test['image_1'][k], test['image_2'][k]\n",
        "true_caption = test['impression'][k]\n",
        "inference(image1, image2, true_caption, top_k = None)"
      ]
    },
    {
      "cell_type": "markdown",
      "metadata": {
        "id": "eewbQYUEEraq"
      },
      "source": [
        "# Conclusion"
      ]
    },
    {
      "cell_type": "code",
      "execution_count": null,
      "metadata": {
        "id": "Twqre2neQ0kR"
      },
      "outputs": [],
      "source": [
        "result"
      ]
    }
  ],
  "metadata": {
    "accelerator": "GPU",
    "colab": {
      "collapsed_sections": [],
      "name": "Baseline Encoder Decoder Model Edited Complete.ipynb",
      "provenance": []
    },
    "kernelspec": {
      "display_name": "Python 3",
      "language": "python",
      "name": "python3"
    },
    "language_info": {
      "codemirror_mode": {
        "name": "ipython",
        "version": 3
      },
      "file_extension": ".py",
      "mimetype": "text/x-python",
      "name": "python",
      "nbconvert_exporter": "python",
      "pygments_lexer": "ipython3",
      "version": "3.8.5"
    }
  },
  "nbformat": 4,
  "nbformat_minor": 0
}